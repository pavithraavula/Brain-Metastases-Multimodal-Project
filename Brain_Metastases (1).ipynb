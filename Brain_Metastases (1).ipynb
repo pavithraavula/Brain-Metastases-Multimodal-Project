{
  "nbformat": 4,
  "nbformat_minor": 0,
  "metadata": {
    "colab": {
      "provenance": [],
      "gpuType": "T4"
    },
    "kernelspec": {
      "name": "python3",
      "display_name": "Python 3"
    },
    "language_info": {
      "name": "python"
    }
  },
  "cells": [
    {
      "cell_type": "code",
      "execution_count": null,
      "metadata": {
        "colab": {
          "base_uri": "https://localhost:8080/"
        },
        "id": "QG_Ux45dheh9",
        "outputId": "3a6b1757-81e2-44e5-81a5-ff8128826ae3"
      },
      "outputs": [
        {
          "output_type": "stream",
          "name": "stdout",
          "text": [
            "Requirement already satisfied: nibabel in /usr/local/lib/python3.10/dist-packages (5.0.1)\n",
            "Requirement already satisfied: numpy>=1.19 in /usr/local/lib/python3.10/dist-packages (from nibabel) (1.26.4)\n",
            "Requirement already satisfied: packaging>=17 in /usr/local/lib/python3.10/dist-packages (from nibabel) (24.1)\n",
            "Requirement already satisfied: setuptools in /usr/local/lib/python3.10/dist-packages (from nibabel) (71.0.4)\n"
          ]
        }
      ],
      "source": [
        "!pip install nibabel"
      ]
    },
    {
      "cell_type": "code",
      "source": [
        "!pip install patool"
      ],
      "metadata": {
        "colab": {
          "base_uri": "https://localhost:8080/"
        },
        "id": "JkqJwPyb4Zli",
        "outputId": "17d25ec2-5098-4d7f-b1b3-d386a0116c54"
      },
      "execution_count": null,
      "outputs": [
        {
          "output_type": "stream",
          "name": "stdout",
          "text": [
            "Collecting patool\n",
            "  Downloading patool-2.4.0-py2.py3-none-any.whl.metadata (4.0 kB)\n",
            "Downloading patool-2.4.0-py2.py3-none-any.whl (96 kB)\n",
            "\u001b[?25l   \u001b[90m━━━━━━━━━━━━━━━━━━━━━━━━━━━━━━━━━━━━━━━━\u001b[0m \u001b[32m0.0/96.9 kB\u001b[0m \u001b[31m?\u001b[0m eta \u001b[36m-:--:--\u001b[0m\r\u001b[2K   \u001b[90m━━━━━━━━━━━━━━━━━━━━━━━━━━━━━━━━━━━━━━━━\u001b[0m \u001b[32m96.9/96.9 kB\u001b[0m \u001b[31m3.6 MB/s\u001b[0m eta \u001b[36m0:00:00\u001b[0m\n",
            "\u001b[?25hInstalling collected packages: patool\n",
            "Successfully installed patool-2.4.0\n"
          ]
        }
      ]
    },
    {
      "cell_type": "code",
      "source": [
        "from google.colab import drive\n",
        "drive.mount('/content/drive')\n"
      ],
      "metadata": {
        "colab": {
          "base_uri": "https://localhost:8080/"
        },
        "id": "9kCRxd136vs8",
        "outputId": "829e4570-2b15-48a4-d77a-f744317929fe"
      },
      "execution_count": null,
      "outputs": [
        {
          "output_type": "stream",
          "name": "stdout",
          "text": [
            "Drive already mounted at /content/drive; to attempt to forcibly remount, call drive.mount(\"/content/drive\", force_remount=True).\n"
          ]
        }
      ]
    },
    {
      "cell_type": "code",
      "source": [
        "import zipfile\n",
        "import os\n",
        "\n",
        "drive_base_path = '/content/drive/My Drive/'\n",
        "# Specify the path to your .zip file\n",
        "zip_file_path = '/content/drive/My Drive/Brain_Mets.zip'\n",
        "extraction_directory = os.path.join(drive_base_path, 'extracted_patients')\n",
        "# # Specify the directory where files will be extracted\n",
        "# extraction_directory = 'data'\n",
        "\n",
        "# Extract the ZIP file\n",
        "if os.path.exists(zip_file_path):\n",
        "    with zipfile.ZipFile(zip_file_path, 'r') as zip_ref:\n",
        "        zip_ref.extractall(extraction_directory)\n",
        "    print(\"ZIP file extracted successfully.\")\n",
        "else:\n",
        "    print(\"The specified ZIP file does not exist.\")\n",
        "    exit()\n"
      ],
      "metadata": {
        "colab": {
          "base_uri": "https://localhost:8080/"
        },
        "id": "VFyHgAxz4sVO",
        "outputId": "ad32ee88-f4f4-4be5-e4d9-8621f49f0f7a"
      },
      "execution_count": null,
      "outputs": [
        {
          "output_type": "stream",
          "name": "stdout",
          "text": [
            "ZIP file extracted successfully.\n"
          ]
        }
      ]
    },
    {
      "cell_type": "code",
      "source": [
        "data = extraction_directory\n",
        "print(f\"Data directory: {data}\")\n",
        "\n",
        "# Define the specific directory where patient folders are located\n",
        "patient_base_dir = os.path.join(data, 'Pretreat-MetsToBrain-Masks')\n",
        "print(f\"Patient base directory: {patient_base_dir}\")\n",
        "\n",
        "for patient in os.listdir(patient_base_dir):\n",
        "    patient_path = os.path.join(patient_base_dir, patient)\n",
        "    print(f\"Processing patient folder: {patient_path}\")\n",
        "    if os.path.isdir(patient_path):\n",
        "        for nii_file in os.listdir(patient_path):\n",
        "            if nii_file.endswith('.nii'):\n",
        "                nii_path = os.path.join(patient_path, nii_file)\n",
        "                print(f\"Processing NIfTI file: {nii_path}\")\n",
        "                nii_data = nib.load(nii_path).get_fdata()\n",
        "\n",
        "                # Display image\n",
        "                plt.imshow(nii_data[:, :, nii_data.shape[-1] // 2], cmap='gray')\n",
        "\n",
        "                # Shape of the image\n",
        "                image_shape = nii_data.shape\n",
        "                # Name of the file\n",
        "                file_name = nii_file\n",
        "\n",
        "                # Display shape and file name\n",
        "                plt.text(10, 10, f'Shape: {image_shape}', color='white', fontsize=12, fontweight='bold')\n",
        "                plt.text(10, 30, f'File: {file_name}', color='white', fontsize=12, fontweight='bold')\n",
        "\n",
        "                # Show the plot\n",
        "                plt.show()"
      ],
      "metadata": {
        "id": "PxlbR6I1Hh0z"
      },
      "execution_count": null,
      "outputs": []
    },
    {
      "cell_type": "code",
      "source": [
        "import nibabel as nib\n",
        "import numpy as np\n",
        "import matplotlib.pyplot as plt\n",
        "\n",
        "# Check if the directory exists\n",
        "if os.path.exists(patient_base_dir):\n",
        "    # List the patient directories\n",
        "    for patient in os.listdir(patient_base_dir):\n",
        "        patient_path = os.path.join(patient_base_dir, patient)\n",
        "        print(f\"Processing patient folder: {patient_path}\")\n",
        "\n",
        "        # Ensure the path is a directory\n",
        "        if os.path.isdir(patient_path):\n",
        "            # List the contents of the patient directory\n",
        "            for file in os.listdir(patient_path):\n",
        "                file_path = os.path.join(patient_path, file)\n",
        "                print(f\"Found file: {file_path}\")\n",
        "\n",
        "                # Check if the file is a NIfTI image\n",
        "                if file.endswith('.nii.gz'):\n",
        "                    # Load the NIfTI image using NiBabel\n",
        "                    img = nib.load(file_path).get_fdata()\n",
        "\n",
        "                    # Display one of the image slices (you may need to adjust this depending on your data)\n",
        "                    plt.imshow(img[:, :, img.shape[2] // 2], cmap='gray')\n",
        "                    plt.title(file)\n",
        "                    plt.axis('off')\n",
        "                    plt.show()\n",
        "                else:\n",
        "                    print(f\"Skipping non-NIfTI file: {file_path}\")\n",
        "else:\n",
        "    print(f\"Directory does not exist: {patient_base_dir}\")"
      ],
      "metadata": {
        "id": "5NFs_UBwFFLS"
      },
      "execution_count": null,
      "outputs": []
    }
  ]
}